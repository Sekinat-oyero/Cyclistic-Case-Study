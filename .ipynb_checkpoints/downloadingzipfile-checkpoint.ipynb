{
 "cells": [
  {
   "cell_type": "markdown",
   "metadata": {},
   "source": [
    "## Unzipping all project datasets"
   ]
  },
  {
   "cell_type": "code",
   "execution_count": 4,
   "metadata": {
    "id": "_eb6OA8sIOx8"
   },
   "outputs": [],
   "source": [
    "# Importing the necessary libraries\n",
    "import os\n",
    "import requests\n",
    "from zipfile import ZipFile\n",
    "from bs4 import BeautifulSoup\n",
    "import shutil"
   ]
  },
  {
   "cell_type": "code",
   "execution_count": 11,
   "metadata": {
    "id": "94GzzOiLp3z0"
   },
   "outputs": [
    {
     "name": "stdout",
     "output_type": "stream",
     "text": [
      "202206-divvy-tripdata.zip\n",
      "202207-divvy-tripdata.zip\n",
      "202208-divvy-tripdata.zip\n",
      "202209-divvy-tripdata.zip\n",
      "202210-divvy-tripdata.zip\n",
      "202211-divvy-tripdata.zip\n",
      "202212-divvy-tripdata.zip\n",
      "202301-divvy-tripdata.zip\n",
      "202302-divvy-tripdata.zip\n",
      "202303-divvy-tripdata.zip\n",
      "202304-divvy-tripdata.zip\n",
      "202305-divvy-tripdata.zip\n"
     ]
    }
   ],
   "source": [
    "# lising all file names in project data folder\n",
    "formerdir = os.listdir('projectdata')"
   ]
  },
  {
   "cell_type": "code",
   "execution_count": 23,
   "metadata": {},
   "outputs": [],
   "source": [
    "# Iterating over the project data folder to unzip all files\n",
    "for file in formerdir:\n",
    "    path = os.path.join(r'C:\\Users\\SEKINAT\\Downloads\\Data Analysis\\casestudy\\projectdata', file)\n",
    "    zf = ZipFile(path, 'r')\n",
    "    zf.extractall(r'C:\\Users\\SEKINAT\\Downloads\\Data Analysis\\casestudy\\unzipprojectdata')\n",
    "    zf.close()"
   ]
  },
  {
   "cell_type": "code",
   "execution_count": 24,
   "metadata": {},
   "outputs": [
    {
     "data": {
      "text/plain": [
       "'C:\\\\Users\\\\SEKINAT\\\\Downloads\\\\Data Analysis\\\\casestudy\\\\copyprojectdata'"
      ]
     },
     "execution_count": 24,
     "metadata": {},
     "output_type": "execute_result"
    }
   ],
   "source": [
    "# copy all files to a new folder for cleaning\n",
    "old_folder = r'C:\\Users\\SEKINAT\\Downloads\\Data Analysis\\casestudy\\unzipprojectdata'\n",
    "new_folder = r'C:\\Users\\SEKINAT\\Downloads\\Data Analysis\\casestudy\\copyprojectdata'\n",
    "shutil.copytree(old_folder, new_folder, dirs_exist_ok=True)"
   ]
  },
  {
   "cell_type": "code",
   "execution_count": null,
   "metadata": {},
   "outputs": [],
   "source": []
  }
 ],
 "metadata": {
  "colab": {
   "provenance": []
  },
  "kernelspec": {
   "display_name": "Python 3 (ipykernel)",
   "language": "python",
   "name": "python3"
  },
  "language_info": {
   "codemirror_mode": {
    "name": "ipython",
    "version": 3
   },
   "file_extension": ".py",
   "mimetype": "text/x-python",
   "name": "python",
   "nbconvert_exporter": "python",
   "pygments_lexer": "ipython3",
   "version": "3.9.13"
  }
 },
 "nbformat": 4,
 "nbformat_minor": 1
}
